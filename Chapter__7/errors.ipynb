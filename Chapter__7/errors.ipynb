{
 "cells": [
  {
   "cell_type": "code",
   "execution_count": 1,
   "metadata": {},
   "outputs": [
    {
     "name": "stdout",
     "output_type": "stream",
     "text": [
      "30\n",
      "Please enter a Number 25\n"
     ]
    },
    {
     "ename": "TypeError",
     "evalue": "unsupported operand type(s) for +: 'int' and 'str'",
     "output_type": "error",
     "traceback": [
      "\u001b[1;31m---------------------------------------------------------------------------\u001b[0m",
      "\u001b[1;31mTypeError\u001b[0m                                 Traceback (most recent call last)",
      "\u001b[1;32m<ipython-input-1-bb38f7ec3838>\u001b[0m in \u001b[0;36m<module>\u001b[1;34m\u001b[0m\n\u001b[0;32m      9\u001b[0m \u001b[1;31m# ... Some Code\u001b[0m\u001b[1;33m\u001b[0m\u001b[1;33m\u001b[0m\u001b[1;33m\u001b[0m\u001b[0m\n\u001b[0;32m     10\u001b[0m \u001b[0mnumber2\u001b[0m \u001b[1;33m=\u001b[0m \u001b[0minput\u001b[0m\u001b[1;33m(\u001b[0m\u001b[1;34m\"Please enter a Number \"\u001b[0m\u001b[1;33m)\u001b[0m\u001b[1;33m\u001b[0m\u001b[1;33m\u001b[0m\u001b[0m\n\u001b[1;32m---> 11\u001b[1;33m \u001b[0madd\u001b[0m\u001b[1;33m(\u001b[0m\u001b[0mnumber1\u001b[0m\u001b[1;33m,\u001b[0m \u001b[0mnumber2\u001b[0m\u001b[1;33m)\u001b[0m\u001b[1;33m\u001b[0m\u001b[1;33m\u001b[0m\u001b[0m\n\u001b[0m\u001b[0;32m     12\u001b[0m \u001b[1;33m\u001b[0m\u001b[0m\n\u001b[0;32m     13\u001b[0m \u001b[1;31m# This code block will not run\u001b[0m\u001b[1;33m\u001b[0m\u001b[1;33m\u001b[0m\u001b[1;33m\u001b[0m\u001b[0m\n",
      "\u001b[1;32m<ipython-input-1-bb38f7ec3838>\u001b[0m in \u001b[0;36madd\u001b[1;34m(n1, n2)\u001b[0m\n\u001b[0;32m      2\u001b[0m \u001b[1;33m\u001b[0m\u001b[0m\n\u001b[0;32m      3\u001b[0m \u001b[1;32mdef\u001b[0m \u001b[0madd\u001b[0m\u001b[1;33m(\u001b[0m\u001b[0mn1\u001b[0m\u001b[1;33m,\u001b[0m \u001b[0mn2\u001b[0m\u001b[1;33m)\u001b[0m\u001b[1;33m:\u001b[0m\u001b[1;33m\u001b[0m\u001b[1;33m\u001b[0m\u001b[0m\n\u001b[1;32m----> 4\u001b[1;33m     \u001b[0mprint\u001b[0m\u001b[1;33m(\u001b[0m\u001b[0mn1\u001b[0m \u001b[1;33m+\u001b[0m \u001b[0mn2\u001b[0m\u001b[1;33m)\u001b[0m\u001b[1;33m\u001b[0m\u001b[1;33m\u001b[0m\u001b[0m\n\u001b[0m\u001b[0;32m      5\u001b[0m \u001b[0madd\u001b[0m\u001b[1;33m(\u001b[0m\u001b[1;36m10\u001b[0m\u001b[1;33m,\u001b[0m \u001b[1;36m20\u001b[0m\u001b[1;33m)\u001b[0m\u001b[1;33m\u001b[0m\u001b[1;33m\u001b[0m\u001b[0m\n\u001b[0;32m      6\u001b[0m \u001b[1;33m\u001b[0m\u001b[0m\n",
      "\u001b[1;31mTypeError\u001b[0m: unsupported operand type(s) for +: 'int' and 'str'"
     ]
    }
   ],
   "source": [
    "## Error and Exceptions Handling\n",
    "\n",
    "def add(n1, n2):\n",
    "    print(n1 + n2)\n",
    "add(10, 20)\n",
    "\n",
    "# Errors\n",
    "number1 = 20\n",
    "# ... Some Code \n",
    "number2 = input(\"Please enter a Number \")\n",
    "add(number1, number2)\n",
    "\n",
    "# This code block will not run\n",
    "print(\"Some more Codes\")"
   ]
  },
  {
   "cell_type": "code",
   "execution_count": 2,
   "metadata": {},
   "outputs": [
    {
     "name": "stdout",
     "output_type": "stream",
     "text": [
      "Add operation can't be done\n",
      "Some more Codes\n"
     ]
    }
   ],
   "source": [
    "# try except\n",
    "\n",
    "number1 = 30\n",
    "number2 = input(\"Please Provide a Number \")\n",
    "try:    \n",
    "    add(number1, number2)\n",
    "except:\n",
    "    print(\"Add operation can't be done\")\n",
    "print(\"Some more Codes\")"
   ]
  },
  {
   "cell_type": "code",
   "execution_count": 3,
   "metadata": {},
   "outputs": [
    {
     "name": "stdout",
     "output_type": "stream",
     "text": [
      "115\n",
      "Numbers added\n",
      "I always run\n",
      "Some more Codes... Out side try/except/finally\n"
     ]
    }
   ],
   "source": [
    "# try except else finally\n",
    "\n",
    "number1 = 30\n",
    "try:\n",
    "    number2 = int(input(\"Please Provide a Number: \"))\n",
    "    add(number1, number2)\n",
    "except:\n",
    "    print(\"Add operation can't be done\")\n",
    "else:\n",
    "    print(\"Numbers added\")\n",
    "finally:\n",
    "    print(\"I always run\")\n",
    "print(\"Some more Codes... Out side try/except/finally\")"
   ]
  },
  {
   "cell_type": "code",
   "execution_count": 4,
   "metadata": {},
   "outputs": [
    {
     "name": "stdout",
     "output_type": "stream",
     "text": [
      "Oops!! There was an Type error\n",
      "I always run\n",
      "Some more Codes... Out side try/except/finally\n"
     ]
    }
   ],
   "source": [
    "def add_two(n1, n2):\n",
    "    print(n1 + n2)\n",
    "try:\n",
    "    year = 2020\n",
    "    name = input(\"Enter your name: \")\n",
    "    yob = int(input(\"Enter your Year of Birth: \")) # Causes ValueError if entered value is not an integer\n",
    "    add_two(year + name) # Causes TypeError\n",
    "except TypeError:\n",
    "    print(\"Oops!! There was an Type error\")\n",
    "except ValueError:\n",
    "    print(\"Oops!! There was an Value error\")\n",
    "else:\n",
    "    print(\"Numbers added\")\n",
    "finally:\n",
    "    print(\"I always run\")\n",
    "print(\"Some more Codes... Out side try/except/finally\")"
   ]
  },
  {
   "cell_type": "code",
   "execution_count": 5,
   "metadata": {},
   "outputs": [
    {
     "name": "stdout",
     "output_type": "stream",
     "text": [
      "Oops! Looks like you not provide a Number\n",
      "I run always at the end try/except/finally\n",
      "Your input is  85\n",
      "I run always at the end try/except/finally\n"
     ]
    }
   ],
   "source": [
    "def ask_for_int():\n",
    "    while True:\n",
    "        try:\n",
    "            num = int(input(\"Please provide a Number: \"))\n",
    "        except:\n",
    "            print(\"Oops! Looks like you not provide a Number\")\n",
    "            continue\n",
    "        else:\n",
    "            print(\"Your input is \", num)\n",
    "            break\n",
    "        finally:\n",
    "            print(\"I run always at the end try/except/finally\")\n",
    "ask_for_int() # Enter a Number and try with a String"
   ]
  }
 ],
 "metadata": {
  "interpreter": {
   "hash": "63fd5069d213b44bf678585dea6b12cceca9941eaf7f819626cde1f2670de90d"
  },
  "kernelspec": {
   "display_name": "Python 3",
   "language": "python",
   "name": "python3"
  },
  "language_info": {
   "codemirror_mode": {
    "name": "ipython",
    "version": 3
   },
   "file_extension": ".py",
   "mimetype": "text/x-python",
   "name": "python",
   "nbconvert_exporter": "python",
   "pygments_lexer": "ipython3",
   "version": "3.9.5"
  }
 },
 "nbformat": 4,
 "nbformat_minor": 2
}
