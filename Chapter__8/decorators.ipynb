{
 "metadata": {
  "language_info": {
   "codemirror_mode": {
    "name": "ipython",
    "version": 3
   },
   "file_extension": ".py",
   "mimetype": "text/x-python",
   "name": "python",
   "nbconvert_exporter": "python",
   "pygments_lexer": "ipython3",
   "version": "3.9.5"
  },
  "orig_nbformat": 4,
  "kernelspec": {
   "name": "python3",
   "display_name": "Python 3.9.5 64-bit"
  },
  "interpreter": {
   "hash": "63fd5069d213b44bf678585dea6b12cceca9941eaf7f819626cde1f2670de90d"
  }
 },
 "nbformat": 4,
 "nbformat_minor": 2,
 "cells": [
  {
   "cell_type": "code",
   "execution_count": 11,
   "metadata": {},
   "outputs": [
    {
     "output_type": "stream",
     "name": "stdout",
     "text": [
      "1\n<function func at 0x0000028A22B15DC0>\n"
     ]
    }
   ],
   "source": [
    "# Decorator Introduction\n",
    "def func():\n",
    "    return 1\n",
    "print(func())\n",
    "print(func) # that means we can assign this function to a variable"
   ]
  },
  {
   "cell_type": "code",
   "execution_count": 12,
   "metadata": {},
   "outputs": [
    {
     "output_type": "stream",
     "name": "stdout",
     "text": [
      "<function hello at 0x0000028A22854E50>\nHello\nhello() is not defined\n<function hello at 0x0000028A22854E50>\nHello\n"
     ]
    }
   ],
   "source": [
    "def hello():\n",
    "    return \"Hello\"\n",
    "\n",
    "greet = hello\n",
    "print(hello)\n",
    "print(greet())\n",
    "\n",
    "# Delete hello\n",
    "del hello\n",
    "\n",
    "try:\n",
    "    print(hello())\n",
    "except NameError:\n",
    "    print(\"hello() is not defined\")\n",
    "\n",
    "print(greet)\n",
    "print(greet())"
   ]
  },
  {
   "cell_type": "code",
   "execution_count": 13,
   "metadata": {},
   "outputs": [
    {
     "output_type": "stream",
     "name": "stdout",
     "text": [
      "The outer() function is executing ...\nI am going to return a function\n<function outer.<locals>.inner at 0x0000028A220151F0>\nThe inner() function is executing ...\n"
     ]
    }
   ],
   "source": [
    "# Returning function from functions\n",
    "def outer():\n",
    "    print(\"The outer() function is executing ...\")\n",
    "\n",
    "    def inner():\n",
    "        return \"The inner() function is executing ...\"\n",
    "\n",
    "    print(\"I am going to return a function\")\n",
    "    \n",
    "    return inner\n",
    "\n",
    "my_new_func = outer()\n",
    "print(my_new_func)\n",
    "print(my_new_func())"
   ]
  },
  {
   "cell_type": "code",
   "execution_count": 4,
   "metadata": {},
   "outputs": [
    {
     "output_type": "stream",
     "name": "stdout",
     "text": [
      "Hi Nilanjan\nSome more codes which executed inside the secondary() function\nHi Nilanjan\n"
     ]
    }
   ],
   "source": [
    "# Passing function to other functions\n",
    "def secondary(original_function):\n",
    "    print(\"Some more codes which executed inside the secondary() function\")\n",
    "    original_function()\n",
    "\n",
    "def say_hello():\n",
    "    print(\"Hi Nilanjan\")\n",
    "\n",
    "say_hello()\n",
    "secondary(say_hello)"
   ]
  },
  {
   "cell_type": "code",
   "execution_count": 14,
   "metadata": {},
   "outputs": [
    {
     "output_type": "stream",
     "name": "stdout",
     "text": [
      "This function need some decoration!\n\nSome extra code, before execution of function_needs_decorator function\nThis function need some decoration!\nSome more code, after execution of function_needs_decorator  function\n\nSome extra code, before execution of another_function function\nAnother function which needs some decoraion!\nSome more code, after execution of another_function  function\n"
     ]
    }
   ],
   "source": [
    "# Defining Decorator function\n",
    "def my_decorator(original_function):\n",
    "\n",
    "    def wrapper(*args, **kwargs):\n",
    "        print(f\"\\nSome extra code, before execution of {original_function.__name__} function\")\n",
    "\n",
    "        original_function(*args, **kwargs)\n",
    "\n",
    "        print(f\"Some more code, after execution of {original_function.__name__}  function\")\n",
    "    \n",
    "    return wrapper\n",
    "\n",
    "# Using Decorator\n",
    "def function_needs_decorator():\n",
    "    print(\"This function need some decoration!\")\n",
    "\n",
    "function_needs_decorator()\n",
    "\n",
    "# New decorated function\n",
    "decorated_function = my_decorator(function_needs_decorator)\n",
    "decorated_function()\n",
    "\n",
    "# Comment and Uncomment this @my_decorator to use another_function() as decorated and normal function\n",
    "@my_decorator # ON/OFF Switch\n",
    "def another_function():\n",
    "    print(\"Another function which needs some decoraion!\")\n",
    "\n",
    "another_function()"
   ]
  },
  {
   "cell_type": "code",
   "execution_count": 6,
   "metadata": {},
   "outputs": [
    {
     "output_type": "stream",
     "name": "stdout",
     "text": [
      "\ndecorated display_info_one function throw a Error: wrapper() takes 0 positional arguments but 2 were given\n\nSome extra code, before execution of display_info_two function\ndisplay_info_two function ran with arguments (Nilanjan, 21)\nSome more code, after execution of display_info_two  function\n"
     ]
    }
   ],
   "source": [
    "# Decorator with no arguments\n",
    "def decorator_one(original_function):\n",
    "\n",
    "    def wrapper():\n",
    "        print(f\"\\nSome extra code, before execution of {original_function.__name__} function\")\n",
    "\n",
    "        original_function()\n",
    "\n",
    "        print(f\"Some more code, after execution of {original_function.__name__}  function\")\n",
    "    \n",
    "    return wrapper\n",
    "\n",
    "# Decorator which accepts arguments\n",
    "def decorator_two(original_function):\n",
    "\n",
    "    def wrapper(*args, **kwargs):\n",
    "        print(f\"\\nSome extra code, before execution of {original_function.__name__} function\")\n",
    "\n",
    "        original_function(*args, **kwargs)\n",
    "\n",
    "        print(f\"Some more code, after execution of {original_function.__name__}  function\")\n",
    "    \n",
    "    return wrapper\n",
    "\n",
    "@decorator_one\n",
    "def display_info_one(name, age):\n",
    "    print(f\"display_info_one function ran with arguments ({name}, {age})\")\n",
    "\n",
    "@decorator_two\n",
    "def display_info_two(name, age):\n",
    "    print(f\"display_info_two function ran with arguments ({name}, {age})\")\n",
    "\n",
    "try:\n",
    "    display_info_one(\"Nilanjan\", 21)\n",
    "except Exception as err_msg:\n",
    "    print(\"\\ndecorated display_info_one function throw a Error:\", err_msg)\n",
    "\n",
    "\n",
    "try:\n",
    "    display_info_two(\"Nilanjan\", 21)\n",
    "except Exception as err_msg:\n",
    "    print(\"\\nThis decorated display_info_decorated function throw a Type Error:\", err_msg)"
   ]
  },
  {
   "cell_type": "code",
   "execution_count": 15,
   "metadata": {},
   "outputs": [
    {
     "output_type": "stream",
     "name": "stdout",
     "text": [
      "\nSome extra code, before execution of display_info function\ndisplay_info function ran with arguments (Nilanjan, 21)\nSome more code, after execution of display_info  function\n"
     ]
    }
   ],
   "source": [
    "# Using Class as decorator\n",
    "class class_decorator(object):\n",
    "    def __init__(self, original_function):\n",
    "        self.original_function = original_function\n",
    "    \n",
    "    def __call__(self, *args, **kwargs):\n",
    "        print(f\"\\nSome extra code, before execution of {self.original_function.__name__} function\")\n",
    "\n",
    "        self.original_function(*args, **kwargs)\n",
    "\n",
    "        print(f\"Some more code, after execution of {self.original_function.__name__}  function\")\n",
    "\n",
    "@class_decorator\n",
    "def display_info(name, age):\n",
    "    print(f\"display_info function ran with arguments ({name}, {age})\")\n",
    "display_info('Nilanjan', 21)"
   ]
  },
  {
   "cell_type": "code",
   "execution_count": 16,
   "metadata": {},
   "outputs": [
    {
     "output_type": "stream",
     "name": "stdout",
     "text": [
      "my_wrapper\nmy_wrapper\nsome_func\nhey\n"
     ]
    }
   ],
   "source": [
    "# When we use decorators, the newly decorated functions show some unexpected results\n",
    "# Preserving the information about original_function\n",
    "def some_decorator(original_function):\n",
    "    \n",
    "    def my_wrapper(*args, **kwargs):\n",
    "        print(f\"Some code before {original_function.__name__}() function\")\n",
    "        return original_function(*args, **kwargs)\n",
    "    \n",
    "    return my_wrapper\n",
    "\n",
    "def some_func(name, country='India'):\n",
    "    print(f\"{name} lives in {country}\")\n",
    "\n",
    "@some_decorator\n",
    "def hey():\n",
    "    print(\"I am in hey() function\")\n",
    "\n",
    "my_decorated_func = some_decorator(some_func)\n",
    "print(my_decorated_func.__name__) #output: wrapper\n",
    "my_decorated_func = hey\n",
    "print(my_decorated_func.__name__) #output: wrapper\n",
    "\n",
    "# Solution\n",
    "from functools import wraps\n",
    "def my_new_decorator(original_function):\n",
    "    \n",
    "    @wraps(original_function)\n",
    "    def wrapper(*args, **kwargs):\n",
    "        print(f\"Some code before {original_function.__name__}() function\")\n",
    "        return original_function(*args, **kwargs)\n",
    "    \n",
    "    return wrapper\n",
    "\n",
    "@my_new_decorator\n",
    "def hey():\n",
    "    print(\"I am in hey() function\")\n",
    "\n",
    "my_decorated_func = my_new_decorator(some_func)\n",
    "print(my_decorated_func.__name__) #output: some_func\n",
    "my_decorated_func = hey\n",
    "print(my_decorated_func.__name__) #output: hey"
   ]
  }
 ]
}