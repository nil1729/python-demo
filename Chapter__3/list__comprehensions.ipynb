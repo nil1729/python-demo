{
 "cells": [
  {
   "metadata": {
    "trusted": true
   },
   "cell_type": "code",
   "source": [
    "my_list = []\n",
    "for letter in 'nilanjan':\n",
    "    my_list.append(letter)\n",
    "my_list"
   ],
   "execution_count": 4,
   "outputs": [
    {
     "output_type": "execute_result",
     "data": {
      "text/plain": [
       "['n', 'i', 'l', 'a', 'n', 'j', 'a', 'n']"
      ]
     },
     "metadata": {},
     "execution_count": 4
    }
   ]
  },
  {
   "metadata": {
    "trusted": true
   },
   "cell_type": "code",
   "source": [
    "# Using List Comprehensions (Strings)\n",
    "my_string = 'python'\n",
    "my_list = [letter for letter in my_string]\n",
    "my_list"
   ],
   "execution_count": 6,
   "outputs": [
    {
     "output_type": "execute_result",
     "data": {
      "text/plain": [
       "['p', 'y', 't', 'h', 'o', 'n']"
      ]
     },
     "metadata": {},
     "execution_count": 6
    }
   ]
  },
  {
   "metadata": {
    "trusted": true
   },
   "cell_type": "code",
   "source": [
    "square_nums_list = [num**2 for num in range(1, 11)] # Uses of arithmatics\n",
    "square_nums_list"
   ],
   "execution_count": 7,
   "outputs": [
    {
     "output_type": "execute_result",
     "data": {
      "text/plain": [
       "[1, 4, 9, 16, 25, 36, 49, 64, 81, 100]"
      ]
     },
     "metadata": {},
     "execution_count": 7
    }
   ]
  },
  {
   "metadata": {
    "trusted": true
   },
   "cell_type": "code",
   "source": [
    "even_num_list = [num for num in range(1, 11) if num%2 == 0] # Uses of IF Statements\n",
    "even_num_list"
   ],
   "execution_count": 8,
   "outputs": [
    {
     "output_type": "execute_result",
     "data": {
      "text/plain": [
       "[2, 4, 6, 8, 10]"
      ]
     },
     "metadata": {},
     "execution_count": 8
    }
   ]
  },
  {
   "metadata": {
    "trusted": true
   },
   "cell_type": "code",
   "source": [
    " full_num_list = [num if num % 2 == 0 else 'ODD Number' for num in range(1, 11)] # Using IF-Else Statement\n",
    " full_num_list"
   ],
   "execution_count": 10,
   "outputs": [
    {
     "output_type": "execute_result",
     "data": {
      "text/plain": [
       "['ODD Number',\n",
       " 2,\n",
       " 'ODD Number',\n",
       " 4,\n",
       " 'ODD Number',\n",
       " 6,\n",
       " 'ODD Number',\n",
       " 8,\n",
       " 'ODD Number',\n",
       " 10]"
      ]
     },
     "metadata": {},
     "execution_count": 10
    }
   ]
  },
  {
   "metadata": {
    "trusted": true
   },
   "cell_type": "code",
   "source": [
    "my_new_list = [x*y for x in [1, 3, 5, 8] for y in [10, 100, 1000]] # Uses of Nested For-Loop\n",
    "my_new_list"
   ],
   "execution_count": 12,
   "outputs": [
    {
     "output_type": "execute_result",
     "data": {
      "text/plain": [
       "[10, 100, 1000, 30, 300, 3000, 50, 500, 5000, 80, 800, 8000]"
      ]
     },
     "metadata": {},
     "execution_count": 12
    }
   ]
  }
 ],
 "metadata": {
  "kernelspec": {
   "name": "python3",
   "display_name": "Python 3.9.5 64-bit"
  },
  "language_info": {
   "name": "python",
   "version": "3.9.5",
   "mimetype": "text/x-python",
   "codemirror_mode": {
    "name": "ipython",
    "version": 3
   },
   "pygments_lexer": "ipython3",
   "nbconvert_exporter": "python",
   "file_extension": ".py"
  },
  "interpreter": {
   "hash": "63fd5069d213b44bf678585dea6b12cceca9941eaf7f819626cde1f2670de90d"
  }
 },
 "nbformat": 4,
 "nbformat_minor": 4
}