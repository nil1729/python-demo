{
 "cells": [
  {
   "metadata": {
    "trusted": true
   },
   "cell_type": "code",
   "source": [],
   "execution_count": 16,
   "outputs": []
  },
  {
   "metadata": {
    "trusted": true
   },
   "cell_type": "code",
   "source": [
    "my_list = [0, 1, 2, 3, 4, 5, 6, 7, 8, 9]\n",
    "for num in my_list:\n",
    "    print(num)\n",
    "## Range [ range(start, stop, step) ]\n",
    "for num in range(10):\n",
    "    print(num)\n",
    "my_list = list(range(1, 11, 2))\n",
    "my_list"
   ],
   "execution_count": 3,
   "outputs": [
    {
     "output_type": "stream",
     "name": "stdout",
     "text": [
      "0\n1\n2\n3\n4\n5\n6\n7\n8\n9\n0\n1\n2\n3\n4\n5\n6\n7\n8\n9\n"
     ]
    },
    {
     "output_type": "execute_result",
     "data": {
      "text/plain": [
       "[1, 3, 5, 7, 9]"
      ]
     },
     "metadata": {},
     "execution_count": 3
    }
   ]
  },
  {
   "metadata": {
    "trusted": true
   },
   "cell_type": "code",
   "source": [
    "index_count = 0\n",
    "word = 'nilanjan'\n",
    "for letter in word: # for letter in 'nilanjan'\n",
    "    print(f'Letter at {index_count} is {letter}')\n",
    "    index_count += 1\n",
    "# Enumerate (Suitable for finding indexes)\n",
    "for letter in enumerate(word):\n",
    "    print(letter)\n",
    "for (index, letter) in enumerate(word):\n",
    "    print(f'Letter at {index} is {letter} using enumerate')"
   ],
   "execution_count": 8,
   "outputs": [
    {
     "output_type": "stream",
     "name": "stdout",
     "text": [
      "Letter at 0 is n\nLetter at 1 is i\nLetter at 2 is l\nLetter at 3 is a\nLetter at 4 is n\nLetter at 5 is j\nLetter at 6 is a\nLetter at 7 is n\n(0, 'n')\n(1, 'i')\n(2, 'l')\n(3, 'a')\n(4, 'n')\n(5, 'j')\n(6, 'a')\n(7, 'n')\nLetter at 0 is n using enumerate\nLetter at 1 is i using enumerate\nLetter at 2 is l using enumerate\nLetter at 3 is a using enumerate\nLetter at 4 is n using enumerate\nLetter at 5 is j using enumerate\nLetter at 6 is a using enumerate\nLetter at 7 is n using enumerate\n"
     ]
    }
   ]
  },
  {
   "metadata": {
    "trusted": true
   },
   "cell_type": "code",
   "source": [
    "## Zip\n",
    "my_list_1 = [5, 4, 3, 2, 1]\n",
    "my_list_2 = ['a', 'b', 'c']\n",
    "my_list_3 = ['Python', 'Javascript', 'Django', 'MongoDB']\n",
    "zip(my_list_1, my_list_2, my_list_3) # it generates a zip at a Location"
   ],
   "execution_count": 19,
   "outputs": [
    {
     "output_type": "execute_result",
     "data": {
      "text/plain": [
       "<zip at 0x1d3ff3cd800>"
      ]
     },
     "metadata": {},
     "execution_count": 19
    }
   ]
  },
  {
   "metadata": {
    "trusted": true
   },
   "cell_type": "code",
   "source": [
    "for item in zip(my_list_1, my_list_2, my_list_3): # according to shortest number items in those Lists\n",
    "    print(item)"
   ],
   "execution_count": 18,
   "outputs": [
    {
     "output_type": "stream",
     "name": "stdout",
     "text": [
      "(5, 'a', 'Python')\n(4, 'b', 'Javascript')\n(3, 'c', 'Django')\n"
     ]
    }
   ]
  },
  {
   "metadata": {
    "trusted": true
   },
   "cell_type": "code",
   "source": [
    "# List\n",
    "test_list = ['a', 'b', 'c']\n",
    "print('a' in test_list)\n",
    "print('x' in test_list)"
   ],
   "execution_count": 22,
   "outputs": [
    {
     "output_type": "stream",
     "name": "stdout",
     "text": [
      "True\nFalse\nTrue\n"
     ]
    }
   ]
  },
  {
   "metadata": {
    "trusted": true
   },
   "cell_type": "code",
   "source": [
    "# Dictionaries\n",
    "my_dict = {'key1': 123, 'key2': 343, 'key3': '989'}\n",
    "print('key1' in my_dict)\n",
    "print(my_dict.items())\n",
    "print(my_dict.keys())\n",
    "print(my_dict.values())"
   ],
   "execution_count": 28,
   "outputs": [
    {
     "output_type": "stream",
     "name": "stdout",
     "text": [
      "True\n{'key1': 123, 'key2': 343, 'key3': '989'}\ndict_items([('key1', 123), ('key2', 343), ('key3', '989')])\ndict_keys(['key1', 'key2', 'key3'])\ndict_values([123, 343, '989'])\n"
     ]
    }
   ]
  },
  {
   "metadata": {
    "trusted": true
   },
   "cell_type": "code",
   "source": [
    "# Max Min\n",
    "mx_mn_list = [1, 3, 67, 178, 0, -34, 100]\n",
    "print(max(mx_mn_list))\n",
    "print(min(mx_mn_list))"
   ],
   "execution_count": 29,
   "outputs": [
    {
     "output_type": "stream",
     "name": "stdout",
     "text": [
      "178\n-34\n"
     ]
    }
   ]
  },
  {
   "metadata": {
    "trusted": true
   },
   "cell_type": "code",
   "source": [
    "# Random Library (Import Demo)\n",
    "from random import shuffle, randint\n",
    "random_list = [1, 2, 3, 4, 5, 6, 7, 8, 9 , 10]\n",
    "shuffle(random_list) # In Place Method\n",
    "print(random_list)\n",
    "print(randint(0, 100))"
   ],
   "execution_count": 35,
   "outputs": [
    {
     "output_type": "stream",
     "name": "stdout",
     "text": [
      "[1, 7, 8, 10, 4, 9, 5, 3, 2, 6]\n57\n"
     ]
    }
   ]
  },
  {
   "metadata": {
    "trusted": true
   },
   "cell_type": "code",
   "source": [
    "# Input Method in Python\n",
    "result = input('Enter a Random Number: ') # always take input as a String\n",
    "print(type(result))\n",
    "# Casting\n",
    "print(type(int(result)))"
   ],
   "execution_count": 39,
   "outputs": [
    {
     "output_type": "stream",
     "name": "stdout",
     "text": [
      "<class 'str'>\n<class 'int'>\n"
     ]
    }
   ]
  }
 ],
 "metadata": {
  "kernelspec": {
   "name": "python3",
   "display_name": "Python 3.9.5 64-bit"
  },
  "language_info": {
   "name": "python",
   "version": "3.9.5",
   "mimetype": "text/x-python",
   "codemirror_mode": {
    "name": "ipython",
    "version": 3
   },
   "pygments_lexer": "ipython3",
   "nbconvert_exporter": "python",
   "file_extension": ".py"
  },
  "interpreter": {
   "hash": "63fd5069d213b44bf678585dea6b12cceca9941eaf7f819626cde1f2670de90d"
  }
 },
 "nbformat": 4,
 "nbformat_minor": 4
}